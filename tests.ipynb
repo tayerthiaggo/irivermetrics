{
 "cells": [
  {
   "cell_type": "code",
   "execution_count": 16,
   "metadata": {},
   "outputs": [
    {
     "name": "stdout",
     "output_type": "stream",
     "text": [
      "The autoreload extension is already loaded. To reload it, use:\n",
      "  %reload_ext autoreload\n"
     ]
    }
   ],
   "source": [
    "%load_ext autoreload\n",
    "%autoreload 2\n",
    "\n",
    "import os\n",
    "from src.irm_main import *\n"
   ]
  },
  {
   "cell_type": "code",
   "execution_count": 5,
   "metadata": {},
   "outputs": [
    {
     "ename": "NameError",
     "evalue": "name '__file__' is not defined",
     "output_type": "error",
     "traceback": [
      "\u001b[1;31m---------------------------------------------------------------------------\u001b[0m",
      "\u001b[1;31mNameError\u001b[0m                                 Traceback (most recent call last)",
      "Cell \u001b[1;32mIn[5], line 1\u001b[0m\n\u001b[1;32m----> 1\u001b[0m os\u001b[39m.\u001b[39mpath\u001b[39m.\u001b[39mdirname(\u001b[39m__file__\u001b[39;49m)\n",
      "\u001b[1;31mNameError\u001b[0m: name '__file__' is not defined"
     ]
    }
   ],
   "source": []
  },
  {
   "cell_type": "code",
   "execution_count": 13,
   "metadata": {},
   "outputs": [
    {
     "name": "stdout",
     "output_type": "stream",
     "text": [
      "C:\\Users\\00101125\\The University of Western Australia\\RLH UWA Node - Documents\\01_GIS_projects\\02.WPE_qld\\Analysis\\Work\\test_files\\shp\\results_iRiverMetrics created to export results\n",
      "C:\\Users\\00101125\\The University of Western Australia\\RLH UWA Node - Documents\\01_GIS_projects\\02.WPE_qld\\Analysis\\Work\\test_files\\shp\\results_iRiverMetrics\\wd_batch created to export results\n",
      "C:\\Users\\00101125\\The University of Western Australia\\RLH UWA Node - Documents\\01_GIS_projects\\02.WPE_qld\\Analysis\\Work\\test_files\\shp\\results_iRiverMetrics\\wd_batch\\wmask_tif created to export results\n",
      "Checking input data...\n",
      "rcor_extent and da_wmask projections are different! rcor_extent will be reprojected to match da_wmask\n",
      "6 bands found. Reminder: First 6 bands must be stacked as B,G,R,NIR,SWIR2\n",
      "Input data validated.\n",
      "Loading configuration file c:\\Users\\00101125\\The University of Western Australia\\RLH UWA Node - Documents\\01_GIS_projects\\02.WPE_qld\\Analysis\\Work\\GitHub\\irivermetrics\\docs\\WaterDetect.ini\n",
      "File c:\\Users\\00101125\\The University of Western Australia\\RLH UWA Node - Documents\\01_GIS_projects\\02.WPE_qld\\Analysis\\Work\\GitHub\\irivermetrics\\docs\\WaterDetect.ini verified.\n",
      "Executing...\n",
      "Working on results...\n",
      "CPU times: total: 2.77 s\n",
      "Wall time: 16.8 s\n"
     ]
    }
   ],
   "source": [
    "%%time\n",
    "\n",
    "test_path = r'C:\\Users\\00101125\\The University of Western Australia\\RLH UWA Node - Documents\\01_GIS_projects\\02.WPE_qld\\Analysis\\Work\\test_files'\n",
    "\n",
    "\n",
    "#Folder path\n",
    "input_img = os.path.join(test_path, 'Images2')\n",
    "\n",
    "#nc path\n",
    "# input_img = os.path.join(test_path, 's2_test_ts.nc')\n",
    "\n",
    "# input_img = os.path.join(test_path, 's2_wd_merge.nc')\n",
    "\n",
    "# ini_file = os.path.join(test_path, 'WaterDetect.ini')\n",
    "\n",
    "ini_file = None\n",
    "outdir = None\n",
    "\n",
    "rcor_extent = os.path.join(test_path, 'shp/aoi_main_channel_FINAL.shp')\n",
    "\n",
    "buffer = 1000\n",
    "img_ext = '.tif'\n",
    "reg = None\n",
    "max_cluster = None\n",
    "export_tif = True\n",
    "\n",
    "\n",
    "# da_wmask, outdir = wd_batch(input_img, ini_file, rcor_extent, buffer, img_ext, reg, max_cluster, export_tif, chunck_size)\n",
    "\n",
    "da_wmask = wd_batch(input_img, rcor_extent, ini_file, outdir, buffer, img_ext, reg, max_cluster, export_tif)"
   ]
  },
  {
   "cell_type": "code",
   "execution_count": 14,
   "metadata": {},
   "outputs": [
    {
     "name": "stdout",
     "output_type": "stream",
     "text": [
      "Checking input data...\n",
      "rcor_extent and da_wmask projections are different! rcor_extent will be reprojected to match da_wmask\n",
      "Checking input data...Data validated\n",
      "C:\\Users\\00101125\\The University of Western Australia\\RLH UWA Node - Documents\\01_GIS_projects\\02.WPE_qld\\Analysis\\Work\\test_files\\test_del\\water_mask created to export results\n",
      "Results from Metrics module will be exported to  C:\\Users\\00101125\\The University of Western Australia\\RLH UWA Node - Documents\\01_GIS_projects\\02.WPE_qld\\Analysis\\Work\\test_files\\test_del\\water_mask\\metrics\n",
      "Section results will be exported to  C:\\Users\\00101125\\The University of Western Australia\\RLH UWA Node - Documents\\01_GIS_projects\\02.WPE_qld\\Analysis\\Work\\test_files\\test_del\\water_mask\\metrics\\02.Section_results\n",
      "Preprocessing...\n",
      "Preprocessing...Done!\n",
      "Calculating metrics...\n",
      "Persistence raster will be exported to  C:\\Users\\00101125\\The University of Western Australia\\RLH UWA Node - Documents\\01_GIS_projects\\02.WPE_qld\\Analysis\\Work\\test_files\\test_del\\water_mask\\metrics\\01.Persistence_raster\n",
      "Calculating metrics...All done!\n"
     ]
    }
   ],
   "source": [
    "test_path = r'C:\\Users\\00101125\\The University of Western Australia\\RLH UWA Node - Documents\\01_GIS_projects\\02.WPE_qld\\Analysis\\Work\\test_files\\test_del'\n",
    "\n",
    "# \n",
    "da_wmask = os.path.join(test_path, 'water_mask')\n",
    "rcor_extent = r'C:\\Users\\00101125\\The University of Western Australia\\RLH UWA Node - Documents\\01_GIS_projects\\02.WPE_qld\\Analysis\\Work\\test_files\\shp\\fr_main_channel_700.shp'\n",
    "\n",
    "#352\n",
    "# rcor_extent = r'C:\\Users\\00101125\\The University of Western Australia\\RLH UWA Node - Documents\\01_GIS_projects\\02.WPE_qld\\Analysis\\Work\\test_files\\test_del\\shp\\352.shp'\n",
    "\n",
    "outdir = os.path.join(test_path, 'water_mask')\n",
    "\n",
    "# da_wmask, rcor_extent = run(da_wmask, rcor_extent, outdir, 10.1743, export_shp=False)\n",
    "\n",
    "section_length = 0.484\n",
    "img_ext='.tif'\n",
    "export_shp = False\n",
    "\n",
    "calc_metrics(da_wmask, rcor_extent, section_length, outdir, img_ext, export_shp)\n"
   ]
  },
  {
   "cell_type": "code",
   "execution_count": 10,
   "metadata": {},
   "outputs": [
    {
     "name": "stdout",
     "output_type": "stream",
     "text": [
      "Checking input data...\n",
      "rcor_extent and da_wmask projections are different! rcor_extent will be reprojected to match da_wmask\n",
      "Checking input data...Data validated\n",
      "CPU times: total: 4.62 s\n",
      "Wall time: 4.64 s\n"
     ]
    }
   ],
   "source": [
    "%%time\n",
    "\n",
    "# test comparison \n",
    "\n",
    "test_path = r'C:\\Users\\00101125\\The University of Western Australia\\RLH UWA Node - Documents\\01_GIS_projects\\02.WPE_qld\\Analysis\\Work\\test_files\\results_iRiver\\wd_batch'\n",
    "\n",
    "da_wmask = os.path.join(test_path, 'wmask_tif')\n",
    "\n",
    "outdir = os.path.join(test_path, 'results_iRiver')\n",
    "\n",
    "rcor_extent = r'C:\\Users\\00101125\\The University of Western Australia\\RLH UWA Node - Documents\\01_GIS_projects\\02.WPE_qld\\Analysis\\Work\\test_files\\shp\\fr_main_channel_700.shp'\n",
    "\n",
    "da_wmask, rcor_extent  =  main(da_wmask, rcor_extent, outdir, 0.484)"
   ]
  },
  {
   "cell_type": "code",
   "execution_count": null,
   "metadata": {},
   "outputs": [],
   "source": [
    "da_wmask, rcor_extent"
   ]
  },
  {
   "cell_type": "code",
   "execution_count": 17,
   "metadata": {},
   "outputs": [
    {
     "name": "stdout",
     "output_type": "stream",
     "text": [
      "Checking input data...\n",
      "rcor_extent and da_wmask projections are different! rcor_extent will be reprojected to match da_wmask\n",
      "Checking input data...Data validated\n",
      "C:\\Users\\00101125\\The University of Western Australia\\RLH UWA Node - Documents\\01_GIS_projects\\02.WPE_qld\\Analysis\\Work\\GitHub\\irivermetrics\\tests created to export results\n",
      "Results from Metrics module will be exported to  C:\\Users\\00101125\\The University of Western Australia\\RLH UWA Node - Documents\\01_GIS_projects\\02.WPE_qld\\Analysis\\Work\\GitHub\\irivermetrics\\tests\\metrics\n",
      "Section results will be exported to  C:\\Users\\00101125\\The University of Western Australia\\RLH UWA Node - Documents\\01_GIS_projects\\02.WPE_qld\\Analysis\\Work\\GitHub\\irivermetrics\\tests\\metrics\\02.Section_results\n",
      "Preprocessing...\n",
      "Preprocessing...Done!\n"
     ]
    }
   ],
   "source": [
    "# Define input parameters\n",
    "\n",
    "# Path to the directory containing water masks or DataArray\n",
    "da_wmask = r\"C:\\Users\\00101125\\The University of Western Australia\\RLH UWA Node - Documents\\01_GIS_projects\\02.WPE_qld\\Analysis\\Work\\test_files\\results_iRiverMetrics\\wd_batch\\wmask_tif\" \n",
    "# Path to the river corridor extent (sections) shapefile (.shp)\n",
    "rcor_extent = r\"C:\\Users\\00101125\\The University of Western Australia\\RLH UWA Node - Documents\\01_GIS_projects\\02.WPE_qld\\Analysis\\Work\\GitHub\\irivermetrics\\tests/rcor_extent.shp\"\n",
    "# Section length in metres\n",
    "section_length = 0.484\n",
    "# Output directory to store results\n",
    "outdir = r\"C:\\Users\\00101125\\The University of Western Australia\\RLH UWA Node - Documents\\01_GIS_projects\\02.WPE_qld\\Analysis\\Work\\GitHub\\irivermetrics\\tests\"\n",
    "# Input images file extension\n",
    "img_ext = \".tif\"\n",
    "# Export shapefiles (True or False)\n",
    "export_shp = True\n",
    "\n",
    "# Calculate river metrics\n",
    "da_wmask, rcor_extent = calc_metrics(da_wmask, rcor_extent, section_length, outdir, img_ext, export_shp)"
   ]
  },
  {
   "cell_type": "code",
   "execution_count": 47,
   "metadata": {},
   "outputs": [],
   "source": [
    "da_wmask.name = 'water'\n",
    "ds_wmask = da_wmask.to_dataset(name='water')"
   ]
  },
  {
   "cell_type": "code",
   "execution_count": 49,
   "metadata": {},
   "outputs": [],
   "source": [
    "out_nc = os.path.join(outdir, 'wmask_ts1.nc')\n",
    "\n",
    "# da_wmask.to_netcdf(os.path.join(outdir, 'wmask_ts.nc'))\n",
    "\n",
    "da_wmask.to_netcdf(out_nc, encoding={'water': {'zlib': True, 'complevel': 4}})\n",
    "\n"
   ]
  },
  {
   "cell_type": "code",
   "execution_count": 50,
   "metadata": {},
   "outputs": [],
   "source": [
    "dataset = xr.open_dataset(os.path.join(outdir, 'wmask_ts1.nc'))"
   ]
  },
  {
   "cell_type": "code",
   "execution_count": 51,
   "metadata": {},
   "outputs": [],
   "source": [
    "\n",
    "\n",
    "data_array = dataset['water']"
   ]
  },
  {
   "cell_type": "code",
   "execution_count": 54,
   "metadata": {},
   "outputs": [
    {
     "data": {
      "text/plain": [
       "CRS.from_epsg(32751)"
      ]
     },
     "execution_count": 54,
     "metadata": {},
     "output_type": "execute_result"
    }
   ],
   "source": [
    "data_array"
   ]
  }
 ],
 "metadata": {
  "kernelspec": {
   "display_name": "NESP_WPE_iriver",
   "language": "python",
   "name": "python3"
  },
  "language_info": {
   "codemirror_mode": {
    "name": "ipython",
    "version": 3
   },
   "file_extension": ".py",
   "mimetype": "text/x-python",
   "name": "python",
   "nbconvert_exporter": "python",
   "pygments_lexer": "ipython3",
   "version": "3.11.4"
  },
  "orig_nbformat": 4
 },
 "nbformat": 4,
 "nbformat_minor": 2
}
